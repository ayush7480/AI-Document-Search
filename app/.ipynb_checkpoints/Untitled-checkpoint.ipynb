{
 "cells": [
  {
   "cell_type": "code",
   "execution_count": 1,
   "id": "1d3bad80-8db9-44b4-9913-84bdd22c7b61",
   "metadata": {},
   "outputs": [
    {
     "name": "stdout",
     "output_type": "stream",
     "text": [
      "Requirement already satisfied: fastapi in e:\\anaconda\\lib\\site-packages (0.116.1)\n",
      "Requirement already satisfied: uvicorn in e:\\anaconda\\lib\\site-packages (0.35.0)\n",
      "Requirement already satisfied: faiss-cpu in e:\\anaconda\\lib\\site-packages (1.11.0.post1)\n",
      "Requirement already satisfied: sentence-transformers in e:\\anaconda\\lib\\site-packages (5.1.0)\n",
      "Requirement already satisfied: nest_asyncio in e:\\anaconda\\lib\\site-packages (1.6.0)\n",
      "Requirement already satisfied: starlette<0.48.0,>=0.40.0 in e:\\anaconda\\lib\\site-packages (from fastapi) (0.47.2)\n",
      "Requirement already satisfied: pydantic!=1.8,!=1.8.1,!=2.0.0,!=2.0.1,!=2.1.0,<3.0.0,>=1.7.4 in e:\\anaconda\\lib\\site-packages (from fastapi) (2.10.3)\n",
      "Requirement already satisfied: typing-extensions>=4.8.0 in e:\\anaconda\\lib\\site-packages (from fastapi) (4.12.2)\n",
      "Requirement already satisfied: annotated-types>=0.6.0 in e:\\anaconda\\lib\\site-packages (from pydantic!=1.8,!=1.8.1,!=2.0.0,!=2.0.1,!=2.1.0,<3.0.0,>=1.7.4->fastapi) (0.6.0)\n",
      "Requirement already satisfied: pydantic-core==2.27.1 in e:\\anaconda\\lib\\site-packages (from pydantic!=1.8,!=1.8.1,!=2.0.0,!=2.0.1,!=2.1.0,<3.0.0,>=1.7.4->fastapi) (2.27.1)\n",
      "Requirement already satisfied: anyio<5,>=3.6.2 in e:\\anaconda\\lib\\site-packages (from starlette<0.48.0,>=0.40.0->fastapi) (4.7.0)\n",
      "Requirement already satisfied: idna>=2.8 in e:\\anaconda\\lib\\site-packages (from anyio<5,>=3.6.2->starlette<0.48.0,>=0.40.0->fastapi) (3.7)\n",
      "Requirement already satisfied: sniffio>=1.1 in e:\\anaconda\\lib\\site-packages (from anyio<5,>=3.6.2->starlette<0.48.0,>=0.40.0->fastapi) (1.3.0)\n",
      "Requirement already satisfied: click>=7.0 in e:\\anaconda\\lib\\site-packages (from uvicorn) (8.1.8)\n",
      "Requirement already satisfied: h11>=0.8 in e:\\anaconda\\lib\\site-packages (from uvicorn) (0.16.0)\n",
      "Requirement already satisfied: numpy<3.0,>=1.25.0 in e:\\anaconda\\lib\\site-packages (from faiss-cpu) (2.1.3)\n",
      "Requirement already satisfied: packaging in e:\\anaconda\\lib\\site-packages (from faiss-cpu) (24.2)\n",
      "Requirement already satisfied: transformers<5.0.0,>=4.41.0 in e:\\anaconda\\lib\\site-packages (from sentence-transformers) (4.55.0)\n",
      "Requirement already satisfied: tqdm in e:\\anaconda\\lib\\site-packages (from sentence-transformers) (4.67.1)\n",
      "Requirement already satisfied: torch>=1.11.0 in e:\\anaconda\\lib\\site-packages (from sentence-transformers) (2.8.0)\n",
      "Requirement already satisfied: scikit-learn in e:\\anaconda\\lib\\site-packages (from sentence-transformers) (1.6.1)\n",
      "Requirement already satisfied: scipy in e:\\anaconda\\lib\\site-packages (from sentence-transformers) (1.15.3)\n",
      "Requirement already satisfied: huggingface-hub>=0.20.0 in e:\\anaconda\\lib\\site-packages (from sentence-transformers) (0.34.4)\n",
      "Requirement already satisfied: Pillow in e:\\anaconda\\lib\\site-packages (from sentence-transformers) (11.1.0)\n",
      "Requirement already satisfied: filelock in e:\\anaconda\\lib\\site-packages (from transformers<5.0.0,>=4.41.0->sentence-transformers) (3.17.0)\n",
      "Requirement already satisfied: pyyaml>=5.1 in e:\\anaconda\\lib\\site-packages (from transformers<5.0.0,>=4.41.0->sentence-transformers) (6.0.2)\n",
      "Requirement already satisfied: regex!=2019.12.17 in e:\\anaconda\\lib\\site-packages (from transformers<5.0.0,>=4.41.0->sentence-transformers) (2024.11.6)\n",
      "Requirement already satisfied: requests in e:\\anaconda\\lib\\site-packages (from transformers<5.0.0,>=4.41.0->sentence-transformers) (2.32.3)\n",
      "Requirement already satisfied: tokenizers<0.22,>=0.21 in e:\\anaconda\\lib\\site-packages (from transformers<5.0.0,>=4.41.0->sentence-transformers) (0.21.4)\n",
      "Requirement already satisfied: safetensors>=0.4.3 in e:\\anaconda\\lib\\site-packages (from transformers<5.0.0,>=4.41.0->sentence-transformers) (0.6.2)\n",
      "Requirement already satisfied: fsspec>=2023.5.0 in e:\\anaconda\\lib\\site-packages (from huggingface-hub>=0.20.0->sentence-transformers) (2025.3.2)\n",
      "Requirement already satisfied: colorama in e:\\anaconda\\lib\\site-packages (from click>=7.0->uvicorn) (0.4.6)\n",
      "Requirement already satisfied: sympy>=1.13.3 in e:\\anaconda\\lib\\site-packages (from torch>=1.11.0->sentence-transformers) (1.13.3)\n",
      "Requirement already satisfied: networkx in e:\\anaconda\\lib\\site-packages (from torch>=1.11.0->sentence-transformers) (3.4.2)\n",
      "Requirement already satisfied: jinja2 in e:\\anaconda\\lib\\site-packages (from torch>=1.11.0->sentence-transformers) (3.1.6)\n",
      "Requirement already satisfied: setuptools in e:\\anaconda\\lib\\site-packages (from torch>=1.11.0->sentence-transformers) (72.1.0)\n",
      "Requirement already satisfied: mpmath<1.4,>=1.1.0 in e:\\anaconda\\lib\\site-packages (from sympy>=1.13.3->torch>=1.11.0->sentence-transformers) (1.3.0)\n",
      "Requirement already satisfied: MarkupSafe>=2.0 in e:\\anaconda\\lib\\site-packages (from jinja2->torch>=1.11.0->sentence-transformers) (3.0.2)\n",
      "Requirement already satisfied: charset-normalizer<4,>=2 in e:\\anaconda\\lib\\site-packages (from requests->transformers<5.0.0,>=4.41.0->sentence-transformers) (3.3.2)\n",
      "Requirement already satisfied: urllib3<3,>=1.21.1 in e:\\anaconda\\lib\\site-packages (from requests->transformers<5.0.0,>=4.41.0->sentence-transformers) (2.3.0)\n",
      "Requirement already satisfied: certifi>=2017.4.17 in e:\\anaconda\\lib\\site-packages (from requests->transformers<5.0.0,>=4.41.0->sentence-transformers) (2025.4.26)\n",
      "Requirement already satisfied: joblib>=1.2.0 in e:\\anaconda\\lib\\site-packages (from scikit-learn->sentence-transformers) (1.4.2)\n",
      "Requirement already satisfied: threadpoolctl>=3.1.0 in e:\\anaconda\\lib\\site-packages (from scikit-learn->sentence-transformers) (3.5.0)\n"
     ]
    }
   ],
   "source": [
    "!pip install fastapi uvicorn faiss-cpu sentence-transformers nest_asyncio\n"
   ]
  },
  {
   "cell_type": "code",
   "execution_count": 2,
   "id": "56767e0f-f855-4f11-8bbc-d20561f46b94",
   "metadata": {},
   "outputs": [],
   "source": [
    "import nest_asyncio\n",
    "nest_asyncio.apply()\n",
    "\n",
    "from fastapi import FastAPI, HTTPException, Depends\n",
    "from pydantic import BaseModel\n",
    "from sentence_transformers import SentenceTransformer\n",
    "import faiss\n",
    "import numpy as np\n",
    "\n",
    "# FastAPI app\n",
    "app = FastAPI()\n",
    "\n",
    "# Model for embeddings\n",
    "model = SentenceTransformer(\"all-MiniLM-L6-v2\")\n",
    "\n",
    "# FAISS index setup\n",
    "embedding_dim = 384  # for all-MiniLM-L6-v2\n",
    "index = faiss.IndexFlatL2(embedding_dim)\n",
    "documents = []\n",
    "\n",
    "# Data models\n",
    "class Document(BaseModel):\n",
    "    text: str\n",
    "\n",
    "class SearchQuery(BaseModel):\n",
    "    query: str\n",
    "    top_k: int = 5\n",
    "\n",
    "# Role-based access control simulation\n",
    "USER_ROLES = {\"admin\": \"1234\", \"user\": \"abcd\"}\n",
    "\n",
    "def verify_role(role: str, token: str):\n",
    "    if USER_ROLES.get(role) != token:\n",
    "        raise HTTPException(status_code=403, detail=\"Access denied\")\n",
    "\n",
    "# Add document endpoint\n",
    "@app.post(\"/add_document/{role}/{token}\")\n",
    "def add_document(role: str, token: str, doc: Document):\n",
    "    verify_role(role, token)\n",
    "    vector = model.encode(doc.text)\n",
    "    index.add(np.array([vector], dtype=np.float32))\n",
    "    documents.append(doc.text)\n",
    "    return {\"message\": \"Document added successfully\"}\n",
    "\n",
    "# Search endpoint\n",
    "@app.post(\"/search\")\n",
    "def search_docs(query: SearchQuery):\n",
    "    if len(documents) == 0:\n",
    "        raise HTTPException(status_code=404, detail=\"No documents in database\")\n",
    "    vector = model.encode(query.query)\n",
    "    D, I = index.search(np.array([vector], dtype=np.float32), query.top_k)\n",
    "    results = [{\"document\": documents[i], \"score\": float(D[0][j])} for j, i in enumerate(I[0])]\n",
    "    return {\"results\": results}\n"
   ]
  },
  {
   "cell_type": "code",
   "execution_count": null,
   "id": "9f863c04-d9ee-487c-b8ad-599303b9f021",
   "metadata": {},
   "outputs": [
    {
     "name": "stderr",
     "output_type": "stream",
     "text": [
      "INFO:     Started server process [12028]\n",
      "INFO:     Waiting for application startup.\n",
      "INFO:     Application startup complete.\n",
      "INFO:     Uvicorn running on http://0.0.0.0:8000 (Press CTRL+C to quit)\n"
     ]
    },
    {
     "name": "stdout",
     "output_type": "stream",
     "text": [
      "INFO:     127.0.0.1:56777 - \"GET /docs HTTP/1.1\" 200 OK\n",
      "INFO:     127.0.0.1:56777 - \"GET /openapi.json HTTP/1.1\" 200 OK\n"
     ]
    }
   ],
   "source": [
    "import uvicorn\n",
    "\n",
    "uvicorn.run(app, host=\"0.0.0.0\", port=8000)\n"
   ]
  },
  {
   "cell_type": "code",
   "execution_count": null,
   "id": "9126a027-66c9-43b0-83a5-c5c0b01c8278",
   "metadata": {},
   "outputs": [],
   "source": []
  }
 ],
 "metadata": {
  "kernelspec": {
   "display_name": "Python 3 (ipykernel)",
   "language": "python",
   "name": "python3"
  },
  "language_info": {
   "codemirror_mode": {
    "name": "ipython",
    "version": 3
   },
   "file_extension": ".py",
   "mimetype": "text/x-python",
   "name": "python",
   "nbconvert_exporter": "python",
   "pygments_lexer": "ipython3",
   "version": "3.13.5"
  }
 },
 "nbformat": 4,
 "nbformat_minor": 5
}
